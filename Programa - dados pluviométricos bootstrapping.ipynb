{
 "cells": [
  {
   "cell_type": "code",
   "execution_count": 4,
   "metadata": {},
   "outputs": [
    {
     "name": "stdout",
     "output_type": "stream",
     "text": [
      "Qual o nome do arquivo de dados de precipitação: Precip Rio Verde - 25 anos\n"
     ]
    }
   ],
   "source": [
    "##DADOS PLUVIOMÉTRICOS\n",
    "\n",
    "##Booststrap certo - escolhendo um ano representativo entre os n anos da série para cada ano e depois para cada cenário\n",
    "import matplotlib.pyplot as plt\n",
    "import csv, math\n",
    "from decimal import Decimal\n",
    "from datetime import date, datetime, timedelta\n",
    "from dateutil.relativedelta import relativedelta\n",
    "import random\n",
    "\n",
    "#para abrir o arquivo com dados de precipitação (arquivo csv com dados diários em uma coluna)\n",
    "precip=input(f'Qual o nome do arquivo de dados de precipitação: ')\n",
    "with open (precip+'.csv', 'r') as dadoschuva:\n",
    "    filechuva=csv.reader(dadoschuva,delimiter=';')\n",
    "    listachuva=list(filechuva)    \n",
    "dadoschuva.close()\n",
    "\n",
    "##fazer uma lista da precipitação diária de cada ano com os n anos        \n",
    "data0=datetime.strptime('01/10/1996','%d/%m/%Y')\n",
    "data=data0-timedelta(days=1)\n",
    "n=1\n",
    "lista_prec_ano=[]\n",
    "lista_prec_total=[]\n",
    "for i in listachuva:\n",
    "    data+=timedelta(days=1)\n",
    "    datafim=data0+relativedelta(years=n)\n",
    "    diferença=datafim-data\n",
    "    lista_prec_ano.append(i)\n",
    "    if int(diferença.days)==1:\n",
    "            n+=1\n",
    "            lista_prec_total.append(lista_prec_ano)\n",
    "            lista_prec_ano=[]\n",
    "            \n",
    "#bootstrap - escolhe um ano da lista para cada ano (pode repetir o mesmo ano) repete 1000 vezes           \n",
    "lista_cenarios_prec=[]\n",
    "for _ in range (1000):\n",
    "    lista_cenario=[]\n",
    "    for _ in range (30):\n",
    "        lista_cenario.append(lista_prec_total[random.randint(0,24)]) ##Escolhe um ano que vai do elemento zero ao 24 da lista com os 25, se a lista tiver mais ou menos que 25 anos tem que mudar\n",
    "    lista_cenarios_prec.append(lista_cenario)\n",
    "\n",
    "#para salvar os dados em um novo arquivo csv (com os dados de cada cenário em uma única linha - 1000 linhas cada uma com 30 anos de dados)\n",
    "with open('Precip RV 1000 anos.csv', 'w',encoding = 'UTF-8') as doc:\n",
    "    for j in lista_cenarios_prec:\n",
    "        for h in j:\n",
    "            doc.write(((((((str(h).replace('\\n','')).replace(\" \",\"\")).replace(\"['\",\"\")).replace(\"']\",\"\")).replace(\"[\",\"\")).replace(\"]\",\"\"))+';')\n",
    "        doc.write('\\n') "
   ]
  }
 ],
 "metadata": {
  "colab": {
   "collapsed_sections": [],
   "name": "Teste_2_Gabriela Pacheco.ipynb",
   "provenance": []
  },
  "kernelspec": {
   "display_name": "Python 3 (ipykernel)",
   "language": "python",
   "name": "python3"
  },
  "language_info": {
   "codemirror_mode": {
    "name": "ipython",
    "version": 3
   },
   "file_extension": ".py",
   "mimetype": "text/x-python",
   "name": "python",
   "nbconvert_exporter": "python",
   "pygments_lexer": "ipython3",
   "version": "3.9.7"
  }
 },
 "nbformat": 4,
 "nbformat_minor": 1
}
